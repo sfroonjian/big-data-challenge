{
  "nbformat": 4,
  "nbformat_minor": 0,
  "metadata": {
    "colab": {
      "name": "pet_products_review_analysis.ipynb",
      "provenance": [],
      "collapsed_sections": []
    },
    "kernelspec": {
      "name": "python3",
      "display_name": "Python 3"
    }
  },
  "cells": [
    {
      "cell_type": "code",
      "metadata": {
        "id": "YsZrX01EYBGa",
        "colab_type": "code",
        "colab": {}
      },
      "source": [
        "# Install Java, Spark, and Findspark\n",
        "!apt-get install openjdk-8-jdk-headless -qq > /dev/null\n",
        "!wget -q http://www-us.apache.org/dist/spark/spark-2.4.6/spark-2.4.6-bin-hadoop2.7.tgz\n",
        "!tar xf spark-2.4.6-bin-hadoop2.7.tgz\n",
        "!pip install -q findspark\n",
        "\n",
        "# Set Environment Variables\n",
        "import os\n",
        "os.environ[\"JAVA_HOME\"] = \"/usr/lib/jvm/java-8-openjdk-amd64\"\n",
        "os.environ[\"SPARK_HOME\"] = \"/content/spark-2.4.6-bin-hadoop2.7\"\n",
        "\n",
        "# Start a SparkSession\n",
        "import findspark\n",
        "findspark.init()"
      ],
      "execution_count": 1,
      "outputs": []
    },
    {
      "cell_type": "code",
      "metadata": {
        "id": "EyUUlBPggsHU",
        "colab_type": "code",
        "colab": {
          "base_uri": "https://localhost:8080/",
          "height": 204
        },
        "outputId": "9cedba89-db78-4d71-bc0b-3900e135fa49"
      },
      "source": [
        "!wget https://jdbc.postgresql.org/download/postgresql-42.2.9.jar"
      ],
      "execution_count": 2,
      "outputs": [
        {
          "output_type": "stream",
          "text": [
            "--2020-07-31 19:44:09--  https://jdbc.postgresql.org/download/postgresql-42.2.9.jar\n",
            "Resolving jdbc.postgresql.org (jdbc.postgresql.org)... 72.32.157.228, 2001:4800:3e1:1::228\n",
            "Connecting to jdbc.postgresql.org (jdbc.postgresql.org)|72.32.157.228|:443... connected.\n",
            "HTTP request sent, awaiting response... 200 OK\n",
            "Length: 914037 (893K) [application/java-archive]\n",
            "Saving to: ‘postgresql-42.2.9.jar’\n",
            "\n",
            "postgresql-42.2.9.j 100%[===================>] 892.61K  1.39MB/s    in 0.6s    \n",
            "\n",
            "2020-07-31 19:44:11 (1.39 MB/s) - ‘postgresql-42.2.9.jar’ saved [914037/914037]\n",
            "\n"
          ],
          "name": "stdout"
        }
      ]
    },
    {
      "cell_type": "code",
      "metadata": {
        "id": "MGddK5LrvueI",
        "colab_type": "code",
        "colab": {}
      },
      "source": [
        "from pyspark.sql import SparkSession\n",
        "spark = SparkSession.builder.appName(\"AmazonReviewsAnalysis2\").config(\"spark.driver.extraClassPath\",\"/content/postgresql-42.2.9.jar\").getOrCreate()"
      ],
      "execution_count": 3,
      "outputs": []
    },
    {
      "cell_type": "code",
      "metadata": {
        "id": "gBW8umUMvw--",
        "colab_type": "code",
        "colab": {
          "base_uri": "https://localhost:8080/",
          "height": 309
        },
        "outputId": "23c6da35-e2ad-48ba-db9f-5cf1903bc41d"
      },
      "source": [
        "from pyspark import SparkFiles\n",
        "# Load in user_data.csv from S3 into a DataFrame\n",
        "url = \"https://s3.amazonaws.com/amazon-reviews-pds/tsv/amazon_reviews_us_Pet_Products_v1_00.tsv.gz\"\n",
        "spark.sparkContext.addFile(url)\n",
        "\n",
        "pet_products_df = spark.read.csv(SparkFiles.get(\"amazon_reviews_us_Pet_Products_v1_00.tsv.gz\"), sep=\"\\t\", header=True)\n",
        "pet_products_df.show(10)"
      ],
      "execution_count": 4,
      "outputs": [
        {
          "output_type": "stream",
          "text": [
            "+-----------+-----------+--------------+----------+--------------+--------------------+----------------+-----------+-------------+-----------+----+-----------------+--------------------+--------------------+-----------+\n",
            "|marketplace|customer_id|     review_id|product_id|product_parent|       product_title|product_category|star_rating|helpful_votes|total_votes|vine|verified_purchase|     review_headline|         review_body|review_date|\n",
            "+-----------+-----------+--------------+----------+--------------+--------------------+----------------+-----------+-------------+-----------+----+-----------------+--------------------+--------------------+-----------+\n",
            "|         US|   28794885| REAKC26P07MDN|B00Q0K9604|     510387886|(8-Pack) EZwhelp ...|    Pet Products|          5|            0|          0|   N|                Y|A great purchase ...|Best belly bands ...| 2015-08-31|\n",
            "|         US|   11488901|R3NU7OMZ4HQIEG|B00MBW5O9W|     912374672|Warren Eckstein's...|    Pet Products|          2|            0|          1|   N|                Y|My dogs love Hugs...|My dogs love Hugs...| 2015-08-31|\n",
            "|         US|   43214993|R14QJW3XF8QO1P|B0084OHUIO|     902215727|Tyson's True Chew...|    Pet Products|          5|            0|          0|   N|                Y|I have been purch...|I have been purch...| 2015-08-31|\n",
            "|         US|   12835065|R2HB7AX0394ZGY|B001GS71K2|     568880110|Soft Side Pet Cra...|    Pet Products|          5|            0|          0|   N|                Y|it is easy to ope...|It is extremely w...| 2015-08-31|\n",
            "|         US|   26334022| RGKMPDQGSAHR3|B004ABH1LG|     692846826|EliteField 3-Door...|    Pet Products|          5|            0|          0|   N|                Y|           Dog crate|Worked really wel...| 2015-08-31|\n",
            "|         US|   22283621|R1DJCVPQGCV66E|B00AX0LFM4|     590674141|Carlson 68-Inch W...|    Pet Products|          5|            0|          0|   N|                Y|          Five Stars|I love my gates! ...| 2015-08-31|\n",
            "|         US|   14469895|R3V52EAWLPBFQG|B00DQFZGZ0|     688538603|Dog Seat Cover Wi...|    Pet Products|          3|            0|          0|   N|                Y|Seat belt tugs on...|Didn't quite work...| 2015-08-31|\n",
            "|         US|   50896354|R3DKO8J1J28QBI|B00DIRF9US|     742358789|The Bird Catcher ...|    Pet Products|          2|            0|          0|   N|                Y|Great Pole, but S...|I had the origina...| 2015-08-31|\n",
            "|         US|   18440567| R764DBXGRNECG|B00JRCBFUG|     869798483|Cat Bed - Purrfec...|    Pet Products|          5|            1|          1|   N|                N|     My cat loves it|The pad is very s...| 2015-08-31|\n",
            "|         US|   50502362| RW1853GAT0Z9F|B000L3XYZ4|     501118658|PetSafe Drinkwell...|    Pet Products|          5|            0|          0|   N|                Y|          Five Stars|My cat drinks mor...| 2015-08-31|\n",
            "+-----------+-----------+--------------+----------+--------------+--------------------+----------------+-----------+-------------+-----------+----+-----------------+--------------------+--------------------+-----------+\n",
            "only showing top 10 rows\n",
            "\n"
          ],
          "name": "stdout"
        }
      ]
    },
    {
      "cell_type": "code",
      "metadata": {
        "id": "-wynAl8SwIan",
        "colab_type": "code",
        "colab": {
          "base_uri": "https://localhost:8080/",
          "height": 34
        },
        "outputId": "3571f762-a813-493f-9769-16264ac8dbba"
      },
      "source": [
        "# number of records in data set\n",
        "pet_products_df.count()"
      ],
      "execution_count": 5,
      "outputs": [
        {
          "output_type": "execute_result",
          "data": {
            "text/plain": [
              "2643619"
            ]
          },
          "metadata": {
            "tags": []
          },
          "execution_count": 5
        }
      ]
    },
    {
      "cell_type": "code",
      "metadata": {
        "id": "zpsKdvNuwLwc",
        "colab_type": "code",
        "colab": {}
      },
      "source": [
        "# clean df\n",
        "pet_products_df = pet_products_df.dropna()\n",
        "pet_products_df = pet_products_df.dropDuplicates()"
      ],
      "execution_count": 6,
      "outputs": []
    },
    {
      "cell_type": "code",
      "metadata": {
        "id": "kSZIatVmwP1Z",
        "colab_type": "code",
        "colab": {
          "base_uri": "https://localhost:8080/",
          "height": 459
        },
        "outputId": "c393eaa0-97cd-4791-8cf6-c4994b2fcbcc"
      },
      "source": [
        "# transform df to match the review_id_table schema\n",
        "review_id_df = pet_products_df.select(\"review_id\", \"customer_id\", \"product_id\", \"product_parent\", \"review_date\")\n",
        "review_id_df.show()"
      ],
      "execution_count": 7,
      "outputs": [
        {
          "output_type": "stream",
          "text": [
            "+--------------+-----------+----------+--------------+-----------+\n",
            "|     review_id|customer_id|product_id|product_parent|review_date|\n",
            "+--------------+-----------+----------+--------------+-----------+\n",
            "|R1001KC9GI6ARJ|   11232277|B0080YGXPE|     551772997| 2015-04-16|\n",
            "|R100B4FHILXAWG|   18802434|B007TRREJC|      56313707| 2014-10-19|\n",
            "|R1017Z5WWPSSLA|    5584111|B0006342AU|     735846008| 2015-02-02|\n",
            "|R1019WUJBM9K3X|   32939702|B005JW5VRG|     534045437| 2015-01-20|\n",
            "|R101IZCRPIN8SX|   50738127|B0029PY7SK|     383930100| 2014-12-03|\n",
            "|R101KD4S1R47FR|   49683154|B002CM941K|     938528747| 2014-01-28|\n",
            "|R102EATCBUUDL6|   42553668|B0018KVHWQ|     206118958| 2014-08-08|\n",
            "|R102OI838NN3Z7|   11056168|B000YDUAMQ|     180607962| 2014-01-18|\n",
            "|R102VOSABZP429|   45566045|B00TJ3N916|     521682976| 2015-07-31|\n",
            "|R103GQY0RP7GOH|   45241970|B00CX6LJ22|     595786155| 2014-09-21|\n",
            "|R103N9CYVCM7YY|   11637795|B00IBWZYVE|     882938526| 2014-06-17|\n",
            "|R103RPAXH53V7L|   20885662|B0070S62U2|     690582944| 2015-06-06|\n",
            "|R103WGJI3K7XR0|   13481895|B00OLPMPYY|     243499371| 2015-04-24|\n",
            "|R103WY0OHHL7SE|   17240589|B000ES6EM6|     585074793| 2014-08-31|\n",
            "|R103YNHNQF2V83|    1318781|B00NYCI2GU|     595990469| 2015-03-01|\n",
            "|R103ZQX6ZWP92Y|   24896185|B000FUOCOA|      10365166| 2015-01-01|\n",
            "|R104TFJOJZTYGS|   39025830|B0057LAH6O|     336863963| 2015-05-09|\n",
            "|R104Z88EOH2QBZ|   37803298|B0009XSXZM|      47626204| 2015-01-13|\n",
            "|R105KE9EV5NABE|   18465625|B008AFZNHW|     858820850| 2012-07-06|\n",
            "|R105TNCXUBMWHW|   14477518|B00RGNIPBU|     317695018| 2015-04-07|\n",
            "+--------------+-----------+----------+--------------+-----------+\n",
            "only showing top 20 rows\n",
            "\n"
          ],
          "name": "stdout"
        }
      ]
    },
    {
      "cell_type": "code",
      "metadata": {
        "id": "nJXrDnSCwUsS",
        "colab_type": "code",
        "colab": {
          "base_uri": "https://localhost:8080/",
          "height": 102
        },
        "outputId": "c52bf87a-580e-470a-d551-ac76caaf4990"
      },
      "source": [
        "review_id_df.dtypes"
      ],
      "execution_count": 8,
      "outputs": [
        {
          "output_type": "execute_result",
          "data": {
            "text/plain": [
              "[('review_id', 'string'),\n",
              " ('customer_id', 'string'),\n",
              " ('product_id', 'string'),\n",
              " ('product_parent', 'string'),\n",
              " ('review_date', 'string')]"
            ]
          },
          "metadata": {
            "tags": []
          },
          "execution_count": 8
        }
      ]
    },
    {
      "cell_type": "code",
      "metadata": {
        "id": "4bxUMUaMwWuL",
        "colab_type": "code",
        "colab": {
          "base_uri": "https://localhost:8080/",
          "height": 102
        },
        "outputId": "eeaac9e3-9b49-4a03-8ead-8a2c9f006ee5"
      },
      "source": [
        "# change data types to match schema\n",
        "from pyspark.sql.types import IntegerType\n",
        "review_id_df = review_id_df.withColumn(\"customer_id\", review_id_df[\"customer_id\"].cast(IntegerType()))\n",
        "review_id_df = review_id_df.withColumn(\"product_parent\", review_id_df[\"product_parent\"].cast(IntegerType()))\n",
        "from pyspark.sql.types import DateType\n",
        "review_id_df = review_id_df.withColumn(\"review_date\", review_id_df['review_date'].cast(DateType()))\n",
        "review_id_df.dtypes"
      ],
      "execution_count": 9,
      "outputs": [
        {
          "output_type": "execute_result",
          "data": {
            "text/plain": [
              "[('review_id', 'string'),\n",
              " ('customer_id', 'int'),\n",
              " ('product_id', 'string'),\n",
              " ('product_parent', 'int'),\n",
              " ('review_date', 'date')]"
            ]
          },
          "metadata": {
            "tags": []
          },
          "execution_count": 9
        }
      ]
    },
    {
      "cell_type": "code",
      "metadata": {
        "id": "5SF7h09BwW_y",
        "colab_type": "code",
        "colab": {
          "base_uri": "https://localhost:8080/",
          "height": 289
        },
        "outputId": "be1bf500-4641-4ab6-c635-66d7615fb347"
      },
      "source": [
        "# transform df to match the products schema\n",
        "products_df = pet_products_df.select(\"product_id\", \"product_title\")\n",
        "products_df.show(10)"
      ],
      "execution_count": 10,
      "outputs": [
        {
          "output_type": "stream",
          "text": [
            "+----------+--------------------+\n",
            "|product_id|       product_title|\n",
            "+----------+--------------------+\n",
            "|B0080YGXPE|AETERTEK AT-918C ...|\n",
            "|B007TRREJC|   Happy Pet Harness|\n",
            "|B0006342AU|SmartyKat Organic...|\n",
            "|B005JW5VRG|Marina Naturals F...|\n",
            "|B0029PY7SK|ThunderShirt Clas...|\n",
            "|B002CM941K|Hyperflite Jawz D...|\n",
            "|B0018KVHWQ|EasyClip Quiet Ai...|\n",
            "|B000YDUAMQ|Aqueon 06088 Filt...|\n",
            "|B00TJ3N916|MLB PET JERSEY. -...|\n",
            "|B00CX6LJ22|Dogwidgets DW-3 R...|\n",
            "+----------+--------------------+\n",
            "only showing top 10 rows\n",
            "\n"
          ],
          "name": "stdout"
        }
      ]
    },
    {
      "cell_type": "code",
      "metadata": {
        "id": "WrbkfabrwXGd",
        "colab_type": "code",
        "colab": {
          "base_uri": "https://localhost:8080/",
          "height": 34
        },
        "outputId": "b1e4777e-811f-4ea0-ef94-8edf248c1f1a"
      },
      "source": [
        "products_df.dtypes"
      ],
      "execution_count": 11,
      "outputs": [
        {
          "output_type": "execute_result",
          "data": {
            "text/plain": [
              "[('product_id', 'string'), ('product_title', 'string')]"
            ]
          },
          "metadata": {
            "tags": []
          },
          "execution_count": 11
        }
      ]
    },
    {
      "cell_type": "code",
      "metadata": {
        "id": "qnSoHjV7wmPl",
        "colab_type": "code",
        "colab": {}
      },
      "source": [
        "# clean df\n",
        "products_df = products_df.dropDuplicates()"
      ],
      "execution_count": 12,
      "outputs": []
    },
    {
      "cell_type": "code",
      "metadata": {
        "id": "HHhe5_Y-wmSy",
        "colab_type": "code",
        "colab": {
          "base_uri": "https://localhost:8080/",
          "height": 459
        },
        "outputId": "c8f0b928-fad6-4899-d706-3d17b454d893"
      },
      "source": [
        "# transform df to match the customers schema\n",
        "customers_df = pet_products_df.groupby(\"customer_id\").count()\n",
        "customers_df.show()"
      ],
      "execution_count": 13,
      "outputs": [
        {
          "output_type": "stream",
          "text": [
            "+-----------+-----+\n",
            "|customer_id|count|\n",
            "+-----------+-----+\n",
            "|   20214846|   15|\n",
            "|   31120744|    4|\n",
            "|   20223672|    2|\n",
            "|   39043742|    1|\n",
            "|   15231334|    9|\n",
            "|   44700871|    2|\n",
            "|   26617857|    7|\n",
            "|   51750322|    1|\n",
            "|   42655488|    1|\n",
            "|   48278478|    1|\n",
            "|   11417844|    1|\n",
            "|   34795930|    4|\n",
            "|   12369110|    8|\n",
            "|   20437114|    1|\n",
            "|   25490618|    3|\n",
            "|   31754174|    6|\n",
            "|   20460479|    7|\n",
            "|   22219042|   30|\n",
            "|    4909697|    2|\n",
            "|   15741843|    9|\n",
            "+-----------+-----+\n",
            "only showing top 20 rows\n",
            "\n"
          ],
          "name": "stdout"
        }
      ]
    },
    {
      "cell_type": "code",
      "metadata": {
        "id": "vM4Ay423wq8w",
        "colab_type": "code",
        "colab": {
          "base_uri": "https://localhost:8080/",
          "height": 459
        },
        "outputId": "ebb298a6-77a0-4d8a-be66-53329a4e197a"
      },
      "source": [
        "# rename columns to match schema\n",
        "customers_df = customers_df.withColumnRenamed(\"count\", \"customer_count\")\n",
        "customers_df.show()"
      ],
      "execution_count": 14,
      "outputs": [
        {
          "output_type": "stream",
          "text": [
            "+-----------+--------------+\n",
            "|customer_id|customer_count|\n",
            "+-----------+--------------+\n",
            "|   20214846|            15|\n",
            "|   31120744|             4|\n",
            "|   20223672|             2|\n",
            "|   39043742|             1|\n",
            "|   15231334|             9|\n",
            "|   44700871|             2|\n",
            "|   26617857|             7|\n",
            "|   51750322|             1|\n",
            "|   42655488|             1|\n",
            "|   48278478|             1|\n",
            "|   11417844|             1|\n",
            "|   34795930|             4|\n",
            "|   12369110|             8|\n",
            "|   20437114|             1|\n",
            "|   25490618|             3|\n",
            "|   31754174|             6|\n",
            "|   20460479|             7|\n",
            "|   22219042|            30|\n",
            "|    4909697|             2|\n",
            "|   15741843|             9|\n",
            "+-----------+--------------+\n",
            "only showing top 20 rows\n",
            "\n"
          ],
          "name": "stdout"
        }
      ]
    },
    {
      "cell_type": "code",
      "metadata": {
        "id": "uCDu_j7dwrEB",
        "colab_type": "code",
        "colab": {
          "base_uri": "https://localhost:8080/",
          "height": 34
        },
        "outputId": "fb6d3fe0-b32a-4327-92ce-f6f95eb811c5"
      },
      "source": [
        "customers_df.dtypes"
      ],
      "execution_count": 15,
      "outputs": [
        {
          "output_type": "execute_result",
          "data": {
            "text/plain": [
              "[('customer_id', 'string'), ('customer_count', 'bigint')]"
            ]
          },
          "metadata": {
            "tags": []
          },
          "execution_count": 15
        }
      ]
    },
    {
      "cell_type": "code",
      "metadata": {
        "id": "wjvuhHbfwrA-",
        "colab_type": "code",
        "colab": {
          "base_uri": "https://localhost:8080/",
          "height": 34
        },
        "outputId": "c642d1de-6401-4166-d42e-50215cb2f686"
      },
      "source": [
        "# change data types to match schema\n",
        "customers_df = customers_df.withColumn(\"customer_id\", customers_df[\"customer_id\"].cast(IntegerType()))\n",
        "customers_df = customers_df.withColumn(\"customer_count\", customers_df[\"customer_count\"].cast(IntegerType()))\n",
        "customers_df.dtypes"
      ],
      "execution_count": 16,
      "outputs": [
        {
          "output_type": "execute_result",
          "data": {
            "text/plain": [
              "[('customer_id', 'int'), ('customer_count', 'int')]"
            ]
          },
          "metadata": {
            "tags": []
          },
          "execution_count": 16
        }
      ]
    },
    {
      "cell_type": "code",
      "metadata": {
        "id": "j81xCGRsbfVB",
        "colab_type": "code",
        "colab": {
          "base_uri": "https://localhost:8080/",
          "height": 459
        },
        "outputId": "ed86d811-dd73-4ad1-9502-3cdb58080985"
      },
      "source": [
        "# transform df to match the vine_tables schema\n",
        "vine_df = pet_products_df.select(\"review_id\", \"star_rating\", \"helpful_votes\", \"total_votes\", \"vine\")\n",
        "vine_df.show()"
      ],
      "execution_count": 17,
      "outputs": [
        {
          "output_type": "stream",
          "text": [
            "+--------------+-----------+-------------+-----------+----+\n",
            "|     review_id|star_rating|helpful_votes|total_votes|vine|\n",
            "+--------------+-----------+-------------+-----------+----+\n",
            "|R1001KC9GI6ARJ|          4|            1|          1|   N|\n",
            "|R100B4FHILXAWG|          2|            0|          0|   N|\n",
            "|R1017Z5WWPSSLA|          5|            0|          0|   N|\n",
            "|R1019WUJBM9K3X|          5|            0|          0|   N|\n",
            "|R101IZCRPIN8SX|          4|            0|          0|   N|\n",
            "|R101KD4S1R47FR|          5|            0|          0|   N|\n",
            "|R102EATCBUUDL6|          5|            0|          1|   N|\n",
            "|R102OI838NN3Z7|          5|            0|          0|   N|\n",
            "|R102VOSABZP429|          5|            2|          2|   N|\n",
            "|R103GQY0RP7GOH|          5|            0|          0|   N|\n",
            "|R103N9CYVCM7YY|          3|            4|          6|   N|\n",
            "|R103RPAXH53V7L|          5|            0|          0|   N|\n",
            "|R103WGJI3K7XR0|          5|            6|          8|   N|\n",
            "|R103WY0OHHL7SE|          5|            1|          1|   N|\n",
            "|R103YNHNQF2V83|          5|            1|          1|   N|\n",
            "|R103ZQX6ZWP92Y|          5|            1|          1|   N|\n",
            "|R104TFJOJZTYGS|          3|            0|          0|   N|\n",
            "|R104Z88EOH2QBZ|          5|            0|          0|   N|\n",
            "|R105KE9EV5NABE|          5|            5|          5|   N|\n",
            "|R105TNCXUBMWHW|          5|            5|          6|   N|\n",
            "+--------------+-----------+-------------+-----------+----+\n",
            "only showing top 20 rows\n",
            "\n"
          ],
          "name": "stdout"
        }
      ]
    },
    {
      "cell_type": "code",
      "metadata": {
        "id": "FfQiK6n0bfjD",
        "colab_type": "code",
        "colab": {
          "base_uri": "https://localhost:8080/",
          "height": 102
        },
        "outputId": "8b84a15f-147f-4ad7-ae20-fdc8daf4ad41"
      },
      "source": [
        "# change data types to match schema\n",
        "vine_df = vine_df.withColumn(\"star_rating\", vine_df[\"star_rating\"].cast(IntegerType()))\n",
        "vine_df = vine_df.withColumn(\"helpful_votes\", vine_df[\"helpful_votes\"].cast(IntegerType()))\n",
        "vine_df = vine_df.withColumn(\"total_votes\", vine_df[\"total_votes\"].cast(IntegerType()))\n",
        "vine_df.dtypes"
      ],
      "execution_count": 18,
      "outputs": [
        {
          "output_type": "execute_result",
          "data": {
            "text/plain": [
              "[('review_id', 'string'),\n",
              " ('star_rating', 'int'),\n",
              " ('helpful_votes', 'int'),\n",
              " ('total_votes', 'int'),\n",
              " ('vine', 'string')]"
            ]
          },
          "metadata": {
            "tags": []
          },
          "execution_count": 18
        }
      ]
    },
    {
      "cell_type": "code",
      "metadata": {
        "id": "7OwZClppwxS5",
        "colab_type": "code",
        "colab": {}
      },
      "source": [
        "# Configure settings for RDS\n",
        "mode = \"append\"\n",
        "jdbc_url=\"jdbc:postgresql://<RDS_endpoint>:5432/<database_name>\"\n",
        "config = {\"user\":\"root\", \n",
        "          \"password\": \"<RDS_password>\", \n",
        "          \"driver\":\"org.postgresql.Driver\"}"
      ],
      "execution_count": 19,
      "outputs": []
    },
    {
      "cell_type": "code",
      "metadata": {
        "id": "nMHmzgCKwxaZ",
        "colab_type": "code",
        "colab": {}
      },
      "source": [
        "# Write DataFrame to review_id_table table in RDS\n",
        "review_id_df.write.jdbc(url=jdbc_url, table='review_id_table', mode=mode, properties=config)"
      ],
      "execution_count": 21,
      "outputs": []
    },
    {
      "cell_type": "code",
      "metadata": {
        "id": "wE0iGVXYw1yB",
        "colab_type": "code",
        "colab": {}
      },
      "source": [
        "# Write DataFrame to products table in RDS\n",
        "products_df.write.jdbc(url=jdbc_url, table='products', mode=mode, properties=config)"
      ],
      "execution_count": 22,
      "outputs": []
    },
    {
      "cell_type": "code",
      "metadata": {
        "id": "uSxjoVWvw11U",
        "colab_type": "code",
        "colab": {}
      },
      "source": [
        "# Write DataFrame to customers table in RDS\n",
        "customers_df.write.jdbc(url=jdbc_url, table='customers', mode=mode, properties=config)"
      ],
      "execution_count": 23,
      "outputs": []
    },
    {
      "cell_type": "code",
      "metadata": {
        "id": "HpTTZQUnyE3A",
        "colab_type": "code",
        "colab": {}
      },
      "source": [
        "# Write DataFrame to customers table in RDS\n",
        "vine_df.write.jdbc(url=jdbc_url, table='vine_table', mode=mode, properties=config)"
      ],
      "execution_count": 24,
      "outputs": []
    },
    {
      "cell_type": "code",
      "metadata": {
        "id": "N0BPJgiZc9VR",
        "colab_type": "code",
        "colab": {}
      },
      "source": [
        ""
      ],
      "execution_count": 24,
      "outputs": []
    },
    {
      "cell_type": "code",
      "metadata": {
        "id": "uYDORtCwaC20",
        "colab_type": "code",
        "colab": {
          "base_uri": "https://localhost:8080/",
          "height": 136
        },
        "outputId": "2cae869c-25d3-4518-c693-06b56bbe203f"
      },
      "source": [
        "# find averages for vine and non-vine reviews\n",
        "filtered_vine_df = vine_df.filter(vine_df[\"helpful_votes\"] > 2)\n",
        "filtered_vine_df.groupby(\"vine\").avg().show()"
      ],
      "execution_count": 30,
      "outputs": [
        {
          "output_type": "stream",
          "text": [
            "+----+-----------------+------------------+------------------+\n",
            "|vine| avg(star_rating)|avg(helpful_votes)|  avg(total_votes)|\n",
            "+----+-----------------+------------------+------------------+\n",
            "|   Y| 3.85451197053407|14.812154696132596| 16.35082872928177|\n",
            "|   N|3.768127907140147|12.798650243813325|14.137424291395568|\n",
            "+----+-----------------+------------------+------------------+\n",
            "\n"
          ],
          "name": "stdout"
        }
      ]
    },
    {
      "cell_type": "code",
      "metadata": {
        "id": "lA_1g17NaGAU",
        "colab_type": "code",
        "colab": {
          "base_uri": "https://localhost:8080/",
          "height": 136
        },
        "outputId": "eda3f008-7877-4a97-a019-d23ed82bd0ab"
      },
      "source": [
        "# find sums for vine and non-vine reviews\n",
        "filtered_vine_df.groupby(\"vine\").sum().show()"
      ],
      "execution_count": 32,
      "outputs": [
        {
          "output_type": "stream",
          "text": [
            "+----+----------------+------------------+----------------+\n",
            "|vine|sum(star_rating)|sum(helpful_votes)|sum(total_votes)|\n",
            "+----+----------------+------------------+----------------+\n",
            "|   Y|            4186|             16086|           17757|\n",
            "|   N|         1072575|           3643059|         4024133|\n",
            "+----+----------------+------------------+----------------+\n",
            "\n"
          ],
          "name": "stdout"
        }
      ]
    },
    {
      "cell_type": "code",
      "metadata": {
        "id": "OEIvfFdMaGHs",
        "colab_type": "code",
        "colab": {
          "base_uri": "https://localhost:8080/",
          "height": 272
        },
        "outputId": "0e7a9dd2-f7aa-47a9-f38a-163d6ebcf800"
      },
      "source": [
        "# organizes data into vine and non-vine, then breaks it down by how many of each star rating are present for each\n",
        "from pyspark.sql.functions import desc\n",
        "vine_grouped_df = filtered_vine_df.groupby([\"vine\", \"star_rating\"])\\\n",
        "                          .agg({\"star_rating\": \"count\"})\\\n",
        "                          .orderBy(*[\"vine\",\"star_rating\"], ascending=False)\n",
        "vine_grouped_df.show()"
      ],
      "execution_count": 33,
      "outputs": [
        {
          "output_type": "stream",
          "text": [
            "+----+-----------+------------------+\n",
            "|vine|star_rating|count(star_rating)|\n",
            "+----+-----------+------------------+\n",
            "|   Y|          5|               433|\n",
            "|   Y|          4|               298|\n",
            "|   Y|          3|               186|\n",
            "|   Y|          2|               102|\n",
            "|   Y|          1|                67|\n",
            "|   N|          5|            152761|\n",
            "|   N|          4|             38278|\n",
            "|   N|          3|             22071|\n",
            "|   N|          2|             17911|\n",
            "|   N|          1|             53623|\n",
            "+----+-----------+------------------+\n",
            "\n"
          ],
          "name": "stdout"
        }
      ]
    },
    {
      "cell_type": "code",
      "metadata": {
        "id": "xuX8qSDTaGEh",
        "colab_type": "code",
        "colab": {
          "base_uri": "https://localhost:8080/",
          "height": 187
        },
        "outputId": "2ff5950b-c87f-496b-8c47-43f88167f866"
      },
      "source": [
        "# takes only reviews that are vine and finds the percent of each rating\n",
        "import pyspark.sql.functions as f\n",
        "from pyspark.sql.window import Window\n",
        "\n",
        "vine_only_df = vine_grouped_df.filter(vine_grouped_df[\"vine\"] == \"Y\")\n",
        "vine_only_df = vine_only_df\\\n",
        "  .withColumn('total', f.sum('count(star_rating)').over(Window.partitionBy()))\\\n",
        "  .withColumn('percent', f.col('count(star_rating)')/f.col('total'))\n",
        "vine_only_df.show()"
      ],
      "execution_count": 34,
      "outputs": [
        {
          "output_type": "stream",
          "text": [
            "+----+-----------+------------------+-----+--------------------+\n",
            "|vine|star_rating|count(star_rating)|total|             percent|\n",
            "+----+-----------+------------------+-----+--------------------+\n",
            "|   Y|          5|               433| 1086| 0.39871086556169427|\n",
            "|   Y|          4|               298| 1086| 0.27440147329650094|\n",
            "|   Y|          3|               186| 1086|  0.1712707182320442|\n",
            "|   Y|          2|               102| 1086| 0.09392265193370165|\n",
            "|   Y|          1|                67| 1086|0.061694290976058934|\n",
            "+----+-----------+------------------+-----+--------------------+\n",
            "\n"
          ],
          "name": "stdout"
        }
      ]
    },
    {
      "cell_type": "code",
      "metadata": {
        "id": "Xc1Hoz7jaF9A",
        "colab_type": "code",
        "colab": {
          "base_uri": "https://localhost:8080/",
          "height": 187
        },
        "outputId": "f4e1e1f4-7e5c-4d20-daea-74325b21a246"
      },
      "source": [
        "# takes only reviews that aren't vine and finds the percent of each rating\n",
        "notvine_only_df = vine_grouped_df.filter(vine_grouped_df[\"vine\"] == \"N\")\n",
        "notvine_only_df = notvine_only_df\\\n",
        "  .withColumn('total', f.sum('count(star_rating)').over(Window.partitionBy()))\\\n",
        "  .withColumn('percent', f.col('count(star_rating)')/f.col('total'))\n",
        "notvine_only_df.show()"
      ],
      "execution_count": 35,
      "outputs": [
        {
          "output_type": "stream",
          "text": [
            "+----+-----------+------------------+------+-------------------+\n",
            "|vine|star_rating|count(star_rating)| total|            percent|\n",
            "+----+-----------+------------------+------+-------------------+\n",
            "|   N|          5|            152761|284644| 0.5366738803558129|\n",
            "|   N|          4|             38278|284644|0.13447674990514466|\n",
            "|   N|          3|             22071|284644|0.07753896094771012|\n",
            "|   N|          2|             17911|284644|0.06292421410604122|\n",
            "|   N|          1|             53623|284644| 0.1883861946852911|\n",
            "+----+-----------+------------------+------+-------------------+\n",
            "\n"
          ],
          "name": "stdout"
        }
      ]
    },
    {
      "cell_type": "code",
      "metadata": {
        "id": "Qu467HR6aF6p",
        "colab_type": "code",
        "colab": {}
      },
      "source": [
        ""
      ],
      "execution_count": 29,
      "outputs": []
    }
  ]
}