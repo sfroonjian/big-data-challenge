{
  "nbformat": 4,
  "nbformat_minor": 0,
  "metadata": {
    "colab": {
      "name": "video_games_review_analysis.ipynb",
      "provenance": []
    },
    "kernelspec": {
      "name": "python3",
      "display_name": "Python 3"
    }
  },
  "cells": [
    {
      "cell_type": "code",
      "metadata": {
        "id": "b_LYQpuMXyeG",
        "colab_type": "code",
        "colab": {}
      },
      "source": [
        "# Install Java, Spark, and Findspark\n",
        "!apt-get install openjdk-8-jdk-headless -qq > /dev/null\n",
        "!wget -q http://www-us.apache.org/dist/spark/spark-2.4.6/spark-2.4.6-bin-hadoop2.7.tgz\n",
        "!tar xf spark-2.4.6-bin-hadoop2.7.tgz\n",
        "!pip install -q findspark\n",
        "\n",
        "# Set Environment Variables\n",
        "import os\n",
        "os.environ[\"JAVA_HOME\"] = \"/usr/lib/jvm/java-8-openjdk-amd64\"\n",
        "os.environ[\"SPARK_HOME\"] = \"/content/spark-2.4.6-bin-hadoop2.7\"\n",
        "\n",
        "# Start a SparkSession\n",
        "import findspark\n",
        "findspark.init()"
      ],
      "execution_count": 1,
      "outputs": []
    },
    {
      "cell_type": "code",
      "metadata": {
        "id": "4Zg7hc_yYoM9",
        "colab_type": "code",
        "colab": {
          "base_uri": "https://localhost:8080/",
          "height": 204
        },
        "outputId": "f1d40285-1bf7-4f72-c272-74e1fc4ffb8c"
      },
      "source": [
        "!wget https://jdbc.postgresql.org/download/postgresql-42.2.9.jar"
      ],
      "execution_count": 2,
      "outputs": [
        {
          "output_type": "stream",
          "text": [
            "--2020-07-31 20:05:47--  https://jdbc.postgresql.org/download/postgresql-42.2.9.jar\n",
            "Resolving jdbc.postgresql.org (jdbc.postgresql.org)... 72.32.157.228, 2001:4800:3e1:1::228\n",
            "Connecting to jdbc.postgresql.org (jdbc.postgresql.org)|72.32.157.228|:443... connected.\n",
            "HTTP request sent, awaiting response... 200 OK\n",
            "Length: 914037 (893K) [application/java-archive]\n",
            "Saving to: ‘postgresql-42.2.9.jar’\n",
            "\n",
            "postgresql-42.2.9.j 100%[===================>] 892.61K  4.74MB/s    in 0.2s    \n",
            "\n",
            "2020-07-31 20:05:47 (4.74 MB/s) - ‘postgresql-42.2.9.jar’ saved [914037/914037]\n",
            "\n"
          ],
          "name": "stdout"
        }
      ]
    },
    {
      "cell_type": "code",
      "metadata": {
        "id": "qNbO4aaLbVv3",
        "colab_type": "code",
        "colab": {}
      },
      "source": [
        "from pyspark.sql import SparkSession\n",
        "spark = SparkSession.builder.appName(\"AmazonReviewsAnalysis1\").config(\"spark.driver.extraClassPath\",\"/content/postgresql-42.2.9.jar\").getOrCreate()"
      ],
      "execution_count": 3,
      "outputs": []
    },
    {
      "cell_type": "code",
      "metadata": {
        "id": "6LvxsAUYbh6K",
        "colab_type": "code",
        "colab": {
          "base_uri": "https://localhost:8080/",
          "height": 479
        },
        "outputId": "1383f640-d139-4e51-d3ff-5e59d21bcea3"
      },
      "source": [
        "from pyspark import SparkFiles\n",
        "# Load in user_data.csv from S3 into a DataFrame\n",
        "url = \"https://s3.amazonaws.com/amazon-reviews-pds/tsv/amazon_reviews_us_Video_Games_v1_00.tsv.gz\"\n",
        "spark.sparkContext.addFile(url)\n",
        "\n",
        "video_games_df = spark.read.csv(SparkFiles.get(\"amazon_reviews_us_Video_Games_v1_00.tsv.gz\"), sep=\"\\t\", header=True)\n",
        "video_games_df.show()"
      ],
      "execution_count": 4,
      "outputs": [
        {
          "output_type": "stream",
          "text": [
            "+-----------+-----------+--------------+----------+--------------+--------------------+----------------+-----------+-------------+-----------+----+-----------------+--------------------+--------------------+-----------+\n",
            "|marketplace|customer_id|     review_id|product_id|product_parent|       product_title|product_category|star_rating|helpful_votes|total_votes|vine|verified_purchase|     review_headline|         review_body|review_date|\n",
            "+-----------+-----------+--------------+----------+--------------+--------------------+----------------+-----------+-------------+-----------+----+-----------------+--------------------+--------------------+-----------+\n",
            "|         US|   12039526| RTIS3L2M1F5SM|B001CXYMFS|     737716809|Thrustmaster T-Fl...|     Video Games|          5|            0|          0|   N|                Y|an amazing joysti...|Used this for Eli...| 2015-08-31|\n",
            "|         US|    9636577| R1ZV7R40OLHKD|B00M920ND6|     569686175|Tonsee 6 buttons ...|     Video Games|          5|            0|          0|   N|                Y|Definitely a sile...|Loved it,  I didn...| 2015-08-31|\n",
            "|         US|    2331478|R3BH071QLH8QMC|B0029CSOD2|      98937668|Hidden Mysteries:...|     Video Games|          1|            0|          1|   N|                Y|            One Star|poor quality work...| 2015-08-31|\n",
            "|         US|   52495923|R127K9NTSXA2YH|B00GOOSV98|      23143350|GelTabz Performan...|     Video Games|          3|            0|          0|   N|                Y|good, but could b...|nice, but tend to...| 2015-08-31|\n",
            "|         US|   14533949|R32ZWUXDJPW27Q|B00Y074JOM|     821342511|Zero Suit Samus a...|     Video Games|          4|            0|          0|   N|                Y|   Great but flawed.|Great amiibo, gre...| 2015-08-31|\n",
            "|         US|    2377552|R3AQQ4YUKJWBA6|B002UBI6W6|     328764615|Psyclone Recharge...|     Video Games|          1|            0|          0|   N|                Y|            One Star|The remote consta...| 2015-08-31|\n",
            "|         US|   17521011|R2F0POU5K6F73F|B008XHCLFO|      24234603|Protection for yo...|     Video Games|          5|            0|          0|   N|                Y|              A Must|I have a 2012-201...| 2015-08-31|\n",
            "|         US|   19676307|R3VNR804HYSMR6|B00BRA9R6A|     682267517|   Nerf 3DS XL Armor|     Video Games|          5|            0|          0|   N|                Y|          Five Stars|Perfect, kids lov...| 2015-08-31|\n",
            "|         US|     224068| R3GZTM72WA2QH|B009EPWJLA|     435241890|One Piece: Pirate...|     Video Games|          5|            0|          0|   N|                Y|          Five Stars|            Excelent| 2015-08-31|\n",
            "|         US|   48467989| RNQOY62705W1K|B0000AV7GB|     256572651|Playstation 2 Dan...|     Video Games|          4|            0|          0|   N|                Y|          Four Stars|Slippery but expe...| 2015-08-31|\n",
            "|         US|     106569|R1VTIA3JTYBY02|B00008KTNN|     384411423|Metal Arms: Glitc...|     Video Games|          5|            0|          0|   N|                N|          Five Stars|Love the game. Se...| 2015-08-31|\n",
            "|         US|   48269642|R29DOU8791QZL8|B000A3IA0Y|     472622859|72 Pin Connector ...|     Video Games|          1|            0|          0|   N|                Y| Game will get stuck|Does not fit prop...| 2015-08-31|\n",
            "|         US|   52738710|R15DUT1VIJ9RJZ|B0053BQN34|     577628462|uDraw Gametablet ...|     Video Games|          2|            0|          0|   N|                Y|We have tried it ...|This was way too ...| 2015-08-31|\n",
            "|         US|   10556786|R3IMF2MQ3OU9ZM|B002I0HIMI|     988218515|NBA 2K12(Covers M...|     Video Games|          4|            0|          0|   N|                Y|          Four Stars|Works great good ...| 2015-08-31|\n",
            "|         US|    2963837|R23H79DHOZTYAU|B0081EH12M|     770100932|New Trigger Grips...|     Video Games|          1|            1|          1|   N|                Y|Now i have to buy...|It did not fit th...| 2015-08-31|\n",
            "|         US|   23092109| RIV24EQAIXA4O|B005FMLZQQ|      24647669|Xbox 360 Media Re...|     Video Games|          5|            0|          0|   N|                Y|          Five Stars|perfect lightweig...| 2015-08-31|\n",
            "|         US|   23091728|R3UCNGYDVN24YB|B002BSA388|      33706205|Super Mario Galaxy 2|     Video Games|          5|            0|          0|   N|                Y|          Five Stars|               great| 2015-08-31|\n",
            "|         US|   10712640| RUL4H4XTTN2DY|B00BUSLSAC|     829667834|Nintendo 3DS XL -...|     Video Games|          5|            0|          0|   N|                Y|          Five Stars|Works beautifully...| 2015-08-31|\n",
            "|         US|   17455376|R20JF7Z4DHTNX5|B00KWF38AW|     110680188|Captain Toad:  Tr...|     Video Games|          5|            0|          0|   N|                Y|          Five Stars|Kids loved the ga...| 2015-08-31|\n",
            "|         US|   14754850|R2T1AJ5MFI2260|B00BRQJYA8|     616463426|Lego Batman 2: DC...|     Video Games|          4|            0|          0|   N|                Y|          Four Stars|           Goodngame| 2015-08-31|\n",
            "+-----------+-----------+--------------+----------+--------------+--------------------+----------------+-----------+-------------+-----------+----+-----------------+--------------------+--------------------+-----------+\n",
            "only showing top 20 rows\n",
            "\n"
          ],
          "name": "stdout"
        }
      ]
    },
    {
      "cell_type": "code",
      "metadata": {
        "id": "Qa8dWcUTcQmw",
        "colab_type": "code",
        "colab": {
          "base_uri": "https://localhost:8080/",
          "height": 34
        },
        "outputId": "727a9e73-ed15-4272-95f6-67c80d3fa6de"
      },
      "source": [
        "# number of records in data set\n",
        "video_games_df.count()"
      ],
      "execution_count": 5,
      "outputs": [
        {
          "output_type": "execute_result",
          "data": {
            "text/plain": [
              "1785997"
            ]
          },
          "metadata": {
            "tags": []
          },
          "execution_count": 5
        }
      ]
    },
    {
      "cell_type": "code",
      "metadata": {
        "id": "6QhB3E8zdbaK",
        "colab_type": "code",
        "colab": {}
      },
      "source": [
        "# clean df\n",
        "video_games_df = video_games_df.dropna()\n",
        "video_games_df = video_games_df.dropDuplicates()"
      ],
      "execution_count": 6,
      "outputs": []
    },
    {
      "cell_type": "code",
      "metadata": {
        "id": "rdxJ8pCTdbgp",
        "colab_type": "code",
        "colab": {
          "base_uri": "https://localhost:8080/",
          "height": 459
        },
        "outputId": "e5bdca1d-86f6-4640-b478-c1d313f682fa"
      },
      "source": [
        "# transform df to match the review_id_table schema\n",
        "review_id_df = video_games_df.select(\"review_id\", \"customer_id\", \"product_id\", \"product_parent\", \"review_date\")\n",
        "review_id_df.show()"
      ],
      "execution_count": 7,
      "outputs": [
        {
          "output_type": "stream",
          "text": [
            "+--------------+-----------+----------+--------------+-----------+\n",
            "|     review_id|customer_id|product_id|product_parent|review_date|\n",
            "+--------------+-----------+----------+--------------+-----------+\n",
            "|R1004PYTPK6ELD|   38281029|B00004WHWF|      89143877| 2002-01-23|\n",
            "|R100EZDMO39LBZ|    1386752|B00OZBFUBY|     872540442| 2015-06-10|\n",
            "|R1011I65X7RSKT|   41907229|B00006ISBU|     654790631| 2003-12-23|\n",
            "|R101V84BKDOR1I|   12034223|B001KX5042|     279727821| 2014-08-08|\n",
            "|R101VJUP2TFB3Y|   31532612|B009DL2TBA|     586138868| 2015-01-05|\n",
            "|R1026A0A5F4D42|   30645349|B00FEKQZE6|     681125586| 2014-04-21|\n",
            "|R102X78AGOZJY3|   20191662|B000ZK9QCS|     699333646| 2010-03-26|\n",
            "|R104THW8CUUZXC|   20910843|B00DHF39EO|     100570084| 2015-06-15|\n",
            "|R105YSA8EGSJ8D|    2435449|B0053B5RGI|     413365293| 2015-02-26|\n",
            "|R106QTPT8YYZ1P|    4159081|B000TGB4UA|      17513844| 2015-04-22|\n",
            "|R106UDOJ2QSWOR|   11343413|B00KVP78FE|     177244653| 2014-11-14|\n",
            "|R109G94NZM2I7R|   22043357|B004XACA60|     432872195| 2012-03-21|\n",
            "|R10A0VLQRM6JIA|   35555943|B000059TC8|     790267453| 2002-11-21|\n",
            "|R10ADC7LCXO3V2|     888889|B00NNU07RU|     255456687| 2015-01-19|\n",
            "|R10BZXFK4OGIWR|   35143662|B0056BE0ZY|     539066453| 2012-01-16|\n",
            "|R10CHUP1MARXDJ|   49055852|B00BMFIXZG|     175986677| 2014-01-24|\n",
            "|R10CJEFAH22TBO|   49424482|B000MD3HQ4|     790701840| 2013-08-18|\n",
            "|R10D0UXARMV36T|   43836461|B0016B28Y8|     230974794| 2008-09-06|\n",
            "|R10DKHK39U0XAL|   15506517|B0053BQU4G|     593744126| 2011-11-26|\n",
            "|R10EFCTVXFYWQV|   47470194|B00JUFSH9M|       4448267| 2014-08-28|\n",
            "+--------------+-----------+----------+--------------+-----------+\n",
            "only showing top 20 rows\n",
            "\n"
          ],
          "name": "stdout"
        }
      ]
    },
    {
      "cell_type": "code",
      "metadata": {
        "id": "TGkW5OkAmeWP",
        "colab_type": "code",
        "colab": {
          "base_uri": "https://localhost:8080/",
          "height": 102
        },
        "outputId": "1649d9e0-9118-46b2-c28b-534b503afe1d"
      },
      "source": [
        "review_id_df.dtypes"
      ],
      "execution_count": 8,
      "outputs": [
        {
          "output_type": "execute_result",
          "data": {
            "text/plain": [
              "[('review_id', 'string'),\n",
              " ('customer_id', 'string'),\n",
              " ('product_id', 'string'),\n",
              " ('product_parent', 'string'),\n",
              " ('review_date', 'string')]"
            ]
          },
          "metadata": {
            "tags": []
          },
          "execution_count": 8
        }
      ]
    },
    {
      "cell_type": "code",
      "metadata": {
        "id": "7FMDvAIXmeaq",
        "colab_type": "code",
        "colab": {
          "base_uri": "https://localhost:8080/",
          "height": 102
        },
        "outputId": "8f6340f0-d188-4afb-8610-0c761397f915"
      },
      "source": [
        "# change data types to match schema\n",
        "from pyspark.sql.types import IntegerType\n",
        "review_id_df = review_id_df.withColumn(\"customer_id\", review_id_df[\"customer_id\"].cast(IntegerType()))\n",
        "review_id_df = review_id_df.withColumn(\"product_parent\", review_id_df[\"product_parent\"].cast(IntegerType()))\n",
        "from pyspark.sql.types import DateType\n",
        "review_id_df = review_id_df.withColumn(\"review_date\", review_id_df['review_date'].cast(DateType()))\n",
        "review_id_df.dtypes"
      ],
      "execution_count": 9,
      "outputs": [
        {
          "output_type": "execute_result",
          "data": {
            "text/plain": [
              "[('review_id', 'string'),\n",
              " ('customer_id', 'int'),\n",
              " ('product_id', 'string'),\n",
              " ('product_parent', 'int'),\n",
              " ('review_date', 'date')]"
            ]
          },
          "metadata": {
            "tags": []
          },
          "execution_count": 9
        }
      ]
    },
    {
      "cell_type": "code",
      "metadata": {
        "id": "3FAU4ujLmehL",
        "colab_type": "code",
        "colab": {
          "base_uri": "https://localhost:8080/",
          "height": 459
        },
        "outputId": "58b2855a-1ebd-4abc-8316-8058e44ea890"
      },
      "source": [
        "# transform df to match the products schema\n",
        "products_df = video_games_df.select(\"product_id\", \"product_title\")\n",
        "products_df.show()"
      ],
      "execution_count": 10,
      "outputs": [
        {
          "output_type": "stream",
          "text": [
            "+----------+--------------------+\n",
            "|product_id|       product_title|\n",
            "+----------+--------------------+\n",
            "|B00004WHWF|         Red Faction|\n",
            "|B00OZBFUBY|USPRO&reg; PS3 Bl...|\n",
            "|B00006ISBU|       NBA Live 2003|\n",
            "|B001KX5042|Imagine:  Cheerle...|\n",
            "|B009DL2TBA|PlayStation 3 500...|\n",
            "|B00FEKQZE6|Skylanders SWAP F...|\n",
            "|B000ZK9QCS|      God of War III|\n",
            "|B00DHF39EO|The Elder Scrolls...|\n",
            "|B0053B5RGI|           Pokemon X|\n",
            "|B000TGB4UA|Tony Hawk's Provi...|\n",
            "|B00KVP78FE|Sony PlayStation ...|\n",
            "|B004XACA60|Battlefield 3 - L...|\n",
            "|B000059TC8|PlayStation 2 DVD...|\n",
            "|B00NNU07RU|    Xbox 360 Console|\n",
            "|B0056BE0ZY|Jillian Michaels ...|\n",
            "|B00BMFIXZG|  Assassin's Creed 4|\n",
            "|B000MD3HQ4|Playstation 2 Mag...|\n",
            "|B0016B28Y8|Call of Duty 4: M...|\n",
            "|B0053BQU4G|             WWE '12|\n",
            "|B00JUFSH9M|       Madden NFL 15|\n",
            "+----------+--------------------+\n",
            "only showing top 20 rows\n",
            "\n"
          ],
          "name": "stdout"
        }
      ]
    },
    {
      "cell_type": "code",
      "metadata": {
        "id": "5uiCSVDJoQtv",
        "colab_type": "code",
        "colab": {
          "base_uri": "https://localhost:8080/",
          "height": 34
        },
        "outputId": "4dad594c-e1a9-4707-b1eb-6a76d132f6e8"
      },
      "source": [
        "products_df.dtypes"
      ],
      "execution_count": 11,
      "outputs": [
        {
          "output_type": "execute_result",
          "data": {
            "text/plain": [
              "[('product_id', 'string'), ('product_title', 'string')]"
            ]
          },
          "metadata": {
            "tags": []
          },
          "execution_count": 11
        }
      ]
    },
    {
      "cell_type": "code",
      "metadata": {
        "id": "KvLrluUFqlPj",
        "colab_type": "code",
        "colab": {}
      },
      "source": [
        "# clean df\n",
        "products_df = products_df.dropDuplicates()"
      ],
      "execution_count": 12,
      "outputs": []
    },
    {
      "cell_type": "code",
      "metadata": {
        "id": "dLFaroH9oTew",
        "colab_type": "code",
        "colab": {
          "base_uri": "https://localhost:8080/",
          "height": 459
        },
        "outputId": "b3568c55-c234-4a66-d69e-fe7f54cbf38c"
      },
      "source": [
        "# transform df to match the customers schema\n",
        "customers_df = video_games_df.groupby(\"customer_id\").count()\n",
        "customers_df.show()"
      ],
      "execution_count": 13,
      "outputs": [
        {
          "output_type": "stream",
          "text": [
            "+-----------+-----+\n",
            "|customer_id|count|\n",
            "+-----------+-----+\n",
            "|    5401088|    5|\n",
            "|   37964777|   16|\n",
            "|   20872523|    1|\n",
            "|   44777937|    4|\n",
            "|    2384511|    1|\n",
            "|   41500251|    1|\n",
            "|   34029693|    1|\n",
            "|   40005173|    2|\n",
            "|   12125016|    2|\n",
            "|   21226328|    3|\n",
            "|    6004768|    2|\n",
            "|   14445274|    4|\n",
            "|   41665035|    1|\n",
            "|   16995171|    1|\n",
            "|   25044130|    1|\n",
            "|   11073960|    2|\n",
            "|   38642776|    8|\n",
            "|    6199838|    6|\n",
            "|   19207466|    3|\n",
            "|    1760318|    1|\n",
            "+-----------+-----+\n",
            "only showing top 20 rows\n",
            "\n"
          ],
          "name": "stdout"
        }
      ]
    },
    {
      "cell_type": "code",
      "metadata": {
        "id": "NH_-E16Xs4YM",
        "colab_type": "code",
        "colab": {
          "base_uri": "https://localhost:8080/",
          "height": 459
        },
        "outputId": "6e1896b9-cbff-4e66-a8f2-6b07b1af76ac"
      },
      "source": [
        "# rename column to match schema\n",
        "customers_df = customers_df.withColumnRenamed(\"count\", \"customer_count\")\n",
        "customers_df.show()"
      ],
      "execution_count": 14,
      "outputs": [
        {
          "output_type": "stream",
          "text": [
            "+-----------+--------------+\n",
            "|customer_id|customer_count|\n",
            "+-----------+--------------+\n",
            "|    5401088|             5|\n",
            "|   37964777|            16|\n",
            "|   20872523|             1|\n",
            "|   44777937|             4|\n",
            "|    2384511|             1|\n",
            "|   41500251|             1|\n",
            "|   34029693|             1|\n",
            "|   40005173|             2|\n",
            "|   12125016|             2|\n",
            "|   21226328|             3|\n",
            "|    6004768|             2|\n",
            "|   14445274|             4|\n",
            "|   41665035|             1|\n",
            "|   16995171|             1|\n",
            "|   25044130|             1|\n",
            "|   11073960|             2|\n",
            "|   38642776|             8|\n",
            "|    6199838|             6|\n",
            "|   19207466|             3|\n",
            "|    1760318|             1|\n",
            "+-----------+--------------+\n",
            "only showing top 20 rows\n",
            "\n"
          ],
          "name": "stdout"
        }
      ]
    },
    {
      "cell_type": "code",
      "metadata": {
        "id": "M4LbWpSMtV-a",
        "colab_type": "code",
        "colab": {
          "base_uri": "https://localhost:8080/",
          "height": 34
        },
        "outputId": "235572ff-4c56-4dd4-a169-6e51278d0b1a"
      },
      "source": [
        "customers_df.dtypes"
      ],
      "execution_count": 15,
      "outputs": [
        {
          "output_type": "execute_result",
          "data": {
            "text/plain": [
              "[('customer_id', 'string'), ('customer_count', 'bigint')]"
            ]
          },
          "metadata": {
            "tags": []
          },
          "execution_count": 15
        }
      ]
    },
    {
      "cell_type": "code",
      "metadata": {
        "id": "me3olVOgtXdV",
        "colab_type": "code",
        "colab": {
          "base_uri": "https://localhost:8080/",
          "height": 34
        },
        "outputId": "9736e8bc-c97b-48ff-a329-729d78cbfc15"
      },
      "source": [
        "# change data types to match schema\n",
        "customers_df = customers_df.withColumn(\"customer_id\", customers_df[\"customer_id\"].cast(IntegerType()))\n",
        "customers_df = customers_df.withColumn(\"customer_count\", customers_df[\"customer_count\"].cast(IntegerType()))\n",
        "customers_df.dtypes"
      ],
      "execution_count": 16,
      "outputs": [
        {
          "output_type": "execute_result",
          "data": {
            "text/plain": [
              "[('customer_id', 'int'), ('customer_count', 'int')]"
            ]
          },
          "metadata": {
            "tags": []
          },
          "execution_count": 16
        }
      ]
    },
    {
      "cell_type": "code",
      "metadata": {
        "id": "v0nWGA8FaaZh",
        "colab_type": "code",
        "colab": {
          "base_uri": "https://localhost:8080/",
          "height": 459
        },
        "outputId": "fad9b149-1e7b-421d-9613-a640b8a4e7de"
      },
      "source": [
        "# transform df to match the vine_tables schema\n",
        "vine_df = video_games_df.select(\"review_id\", \"star_rating\", \"helpful_votes\", \"total_votes\", \"vine\")\n",
        "vine_df.show()"
      ],
      "execution_count": 17,
      "outputs": [
        {
          "output_type": "stream",
          "text": [
            "+--------------+-----------+-------------+-----------+----+\n",
            "|     review_id|star_rating|helpful_votes|total_votes|vine|\n",
            "+--------------+-----------+-------------+-----------+----+\n",
            "|R1004PYTPK6ELD|          5|            0|          0|   N|\n",
            "|R100EZDMO39LBZ|          4|            0|          0|   N|\n",
            "|R1011I65X7RSKT|          5|            2|          2|   N|\n",
            "|R101V84BKDOR1I|          5|            0|          0|   N|\n",
            "|R101VJUP2TFB3Y|          5|            0|          0|   N|\n",
            "|R1026A0A5F4D42|          5|            5|          6|   N|\n",
            "|R102X78AGOZJY3|          5|            0|          0|   N|\n",
            "|R104THW8CUUZXC|          1|            2|          6|   N|\n",
            "|R105YSA8EGSJ8D|          4|            0|          0|   N|\n",
            "|R106QTPT8YYZ1P|          5|            1|          1|   N|\n",
            "|R106UDOJ2QSWOR|          5|            0|          0|   N|\n",
            "|R109G94NZM2I7R|          5|            0|          1|   N|\n",
            "|R10A0VLQRM6JIA|          3|            3|          3|   N|\n",
            "|R10ADC7LCXO3V2|          1|            4|          7|   N|\n",
            "|R10BZXFK4OGIWR|          2|            2|          3|   N|\n",
            "|R10CHUP1MARXDJ|          4|            0|          0|   N|\n",
            "|R10CJEFAH22TBO|          5|            0|          0|   N|\n",
            "|R10D0UXARMV36T|          5|            0|          0|   N|\n",
            "|R10DKHK39U0XAL|          5|            0|          2|   N|\n",
            "|R10EFCTVXFYWQV|          4|            7|         11|   N|\n",
            "+--------------+-----------+-------------+-----------+----+\n",
            "only showing top 20 rows\n",
            "\n"
          ],
          "name": "stdout"
        }
      ]
    },
    {
      "cell_type": "code",
      "metadata": {
        "id": "5EwgvrxGbIYC",
        "colab_type": "code",
        "colab": {
          "base_uri": "https://localhost:8080/",
          "height": 102
        },
        "outputId": "022be768-e7fb-422f-8dc0-dc9ba7365a1d"
      },
      "source": [
        "vine_df.dtypes"
      ],
      "execution_count": 18,
      "outputs": [
        {
          "output_type": "execute_result",
          "data": {
            "text/plain": [
              "[('review_id', 'string'),\n",
              " ('star_rating', 'string'),\n",
              " ('helpful_votes', 'string'),\n",
              " ('total_votes', 'string'),\n",
              " ('vine', 'string')]"
            ]
          },
          "metadata": {
            "tags": []
          },
          "execution_count": 18
        }
      ]
    },
    {
      "cell_type": "code",
      "metadata": {
        "id": "bg5wwb-BbNSo",
        "colab_type": "code",
        "colab": {
          "base_uri": "https://localhost:8080/",
          "height": 102
        },
        "outputId": "eecadb72-2c59-4d75-ab17-9ca2258e53f1"
      },
      "source": [
        "# change data types to match schema\n",
        "vine_df = vine_df.withColumn(\"star_rating\", vine_df[\"star_rating\"].cast(IntegerType()))\n",
        "vine_df = vine_df.withColumn(\"helpful_votes\", vine_df[\"helpful_votes\"].cast(IntegerType()))\n",
        "vine_df = vine_df.withColumn(\"total_votes\", vine_df[\"total_votes\"].cast(IntegerType()))\n",
        "vine_df.dtypes"
      ],
      "execution_count": 19,
      "outputs": [
        {
          "output_type": "execute_result",
          "data": {
            "text/plain": [
              "[('review_id', 'string'),\n",
              " ('star_rating', 'int'),\n",
              " ('helpful_votes', 'int'),\n",
              " ('total_votes', 'int'),\n",
              " ('vine', 'string')]"
            ]
          },
          "metadata": {
            "tags": []
          },
          "execution_count": 19
        }
      ]
    },
    {
      "cell_type": "code",
      "metadata": {
        "id": "XeRaDO3Ttffd",
        "colab_type": "code",
        "colab": {}
      },
      "source": [
        "# Configure settings for RDS\n",
        "mode = \"append\"\n",
        "jdbc_url=\"jdbc:postgresql://<RDS_endpoint>:5432/<database_name>\"\n",
        "config = {\"user\":\"root\", \n",
        "          \"password\": \"<RDS_password>\", \n",
        "          \"driver\":\"org.postgresql.Driver\"}"
      ],
      "execution_count": 20,
      "outputs": []
    },
    {
      "cell_type": "code",
      "metadata": {
        "id": "S_neLW-Utfj-",
        "colab_type": "code",
        "colab": {}
      },
      "source": [
        "# Write DataFrame to review_id_table table in RDS\n",
        "review_id_df.write.jdbc(url=jdbc_url, table='review_id_table', mode=mode, properties=config)"
      ],
      "execution_count": 21,
      "outputs": []
    },
    {
      "cell_type": "code",
      "metadata": {
        "id": "cIntTGdKuxRT",
        "colab_type": "code",
        "colab": {}
      },
      "source": [
        "# Write DataFrame to products table in RDS\n",
        "products_df.write.jdbc(url=jdbc_url, table='products', mode=mode, properties=config)"
      ],
      "execution_count": 22,
      "outputs": []
    },
    {
      "cell_type": "code",
      "metadata": {
        "id": "fWxLeFR_vdyD",
        "colab_type": "code",
        "colab": {}
      },
      "source": [
        "# Write DataFrame to customers table in RDS\n",
        "customers_df.write.jdbc(url=jdbc_url, table='customers', mode=mode, properties=config)"
      ],
      "execution_count": 23,
      "outputs": []
    },
    {
      "cell_type": "code",
      "metadata": {
        "id": "QGhP5NHAvjHo",
        "colab_type": "code",
        "colab": {}
      },
      "source": [
        "# Write DataFrame to customers table in RDS\n",
        "vine_df.write.jdbc(url=jdbc_url, table='vine_table', mode=mode, properties=config)"
      ],
      "execution_count": 24,
      "outputs": []
    },
    {
      "cell_type": "code",
      "metadata": {
        "id": "BCkpJLCAcvIr",
        "colab_type": "code",
        "colab": {}
      },
      "source": [
        ""
      ],
      "execution_count": 24,
      "outputs": []
    },
    {
      "cell_type": "code",
      "metadata": {
        "id": "z4MdEUM9m6Pd",
        "colab_type": "code",
        "colab": {
          "base_uri": "https://localhost:8080/",
          "height": 136
        },
        "outputId": "aa39e9a2-b93c-4bf9-e521-f9b0969decdb"
      },
      "source": [
        "# find averages for vine and non-vine reviews\n",
        "filtered_vine_df = vine_df.filter(vine_df[\"helpful_votes\"] > 2)\n",
        "filtered_vine_df.groupby(\"vine\").avg().show()"
      ],
      "execution_count": 33,
      "outputs": [
        {
          "output_type": "stream",
          "text": [
            "+----+------------------+------------------+------------------+\n",
            "|vine|  avg(star_rating)|avg(helpful_votes)|  avg(total_votes)|\n",
            "+----+------------------+------------------+------------------+\n",
            "|   Y| 4.038516405135521|12.027104136947218|14.631954350927247|\n",
            "|   N|3.4513199528218355|11.713786916412454| 17.13962665098516|\n",
            "+----+------------------+------------------+------------------+\n",
            "\n"
          ],
          "name": "stdout"
        }
      ]
    },
    {
      "cell_type": "code",
      "metadata": {
        "id": "pIHK0Pj0nGG4",
        "colab_type": "code",
        "colab": {
          "base_uri": "https://localhost:8080/",
          "height": 136
        },
        "outputId": "4a50ff17-a11e-4bcc-8c39-a5b7b74354b9"
      },
      "source": [
        "# find sums for vine and non-vine reviews\n",
        "filtered_vine_df.groupby(\"vine\").sum().show()"
      ],
      "execution_count": 34,
      "outputs": [
        {
          "output_type": "stream",
          "text": [
            "+----+----------------+------------------+----------------+\n",
            "|vine|sum(star_rating)|sum(helpful_votes)|sum(total_votes)|\n",
            "+----+----------------+------------------+----------------+\n",
            "|   Y|            2831|              8431|           10257|\n",
            "|   N|         1032949|           3505831|         5129736|\n",
            "+----+----------------+------------------+----------------+\n",
            "\n"
          ],
          "name": "stdout"
        }
      ]
    },
    {
      "cell_type": "code",
      "metadata": {
        "id": "8L1gvrArpWrS",
        "colab_type": "code",
        "colab": {
          "base_uri": "https://localhost:8080/",
          "height": 272
        },
        "outputId": "a1f9d2e7-ac3e-4fd9-9466-9b646eec6815"
      },
      "source": [
        "# organizes data into vine and non-vine, then breaks it down by how many of each star rating are present for each\n",
        "from pyspark.sql.functions import desc\n",
        "vine_grouped_df = filtered_vine_df.groupby([\"vine\", \"star_rating\"])\\\n",
        "                          .agg({\"star_rating\": \"count\"})\\\n",
        "                          .orderBy(*[\"vine\",\"star_rating\"], ascending=False)\n",
        "vine_grouped_df.show()"
      ],
      "execution_count": 35,
      "outputs": [
        {
          "output_type": "stream",
          "text": [
            "+----+-----------+------------------+\n",
            "|vine|star_rating|count(star_rating)|\n",
            "+----+-----------+------------------+\n",
            "|   Y|          5|               279|\n",
            "|   Y|          4|               234|\n",
            "|   Y|          3|               133|\n",
            "|   Y|          2|                46|\n",
            "|   Y|          1|                 9|\n",
            "|   N|          5|            123496|\n",
            "|   N|          4|             51035|\n",
            "|   N|          3|             30298|\n",
            "|   N|          2|             25973|\n",
            "|   N|          1|             68489|\n",
            "+----+-----------+------------------+\n",
            "\n"
          ],
          "name": "stdout"
        }
      ]
    },
    {
      "cell_type": "code",
      "metadata": {
        "id": "fnpI1pqTxXF5",
        "colab_type": "code",
        "colab": {
          "base_uri": "https://localhost:8080/",
          "height": 187
        },
        "outputId": "fe5fbb90-4509-46d8-e8d7-8e590527499f"
      },
      "source": [
        "# takes only reviews that are vine and finds the percent of each rating\n",
        "import pyspark.sql.functions as f\n",
        "from pyspark.sql.window import Window\n",
        "\n",
        "vine_only_df = vine_grouped_df.filter(vine_grouped_df[\"vine\"] == \"Y\")\n",
        "vine_only_df = vine_only_df\\\n",
        "  .withColumn('total', f.sum('count(star_rating)').over(Window.partitionBy()))\\\n",
        "  .withColumn('percent', f.col('count(star_rating)')/f.col('total'))\n",
        "vine_only_df.show()"
      ],
      "execution_count": 36,
      "outputs": [
        {
          "output_type": "stream",
          "text": [
            "+----+-----------+------------------+-----+--------------------+\n",
            "|vine|star_rating|count(star_rating)|total|             percent|\n",
            "+----+-----------+------------------+-----+--------------------+\n",
            "|   Y|          5|               279|  701|  0.3980028530670471|\n",
            "|   Y|          4|               234|  701|  0.3338088445078459|\n",
            "|   Y|          3|               133|  701| 0.18972895863052783|\n",
            "|   Y|          2|                46|  701| 0.06562054208273894|\n",
            "|   Y|          1|                 9|  701|0.012838801711840228|\n",
            "+----+-----------+------------------+-----+--------------------+\n",
            "\n"
          ],
          "name": "stdout"
        }
      ]
    },
    {
      "cell_type": "code",
      "metadata": {
        "id": "E1zRtDiq118R",
        "colab_type": "code",
        "colab": {
          "base_uri": "https://localhost:8080/",
          "height": 187
        },
        "outputId": "e0f011c5-d72b-41a1-ccd2-c537fa716721"
      },
      "source": [
        "# takes only reviews that aren't vine and finds the percent of each rating\n",
        "notvine_only_df = vine_grouped_df.filter(vine_grouped_df[\"vine\"] == \"N\")\n",
        "notvine_only_df = notvine_only_df\\\n",
        "  .withColumn('total', f.sum('count(star_rating)').over(Window.partitionBy()))\\\n",
        "  .withColumn('percent', f.col('count(star_rating)')/f.col('total'))\n",
        "notvine_only_df.show()"
      ],
      "execution_count": 37,
      "outputs": [
        {
          "output_type": "stream",
          "text": [
            "+----+-----------+------------------+------+-------------------+\n",
            "|vine|star_rating|count(star_rating)| total|            percent|\n",
            "+----+-----------+------------------+------+-------------------+\n",
            "|   N|          5|            123496|299291|0.41262851205014517|\n",
            "|   N|          4|             51035|299291| 0.1705196614665994|\n",
            "|   N|          3|             30298|299291|0.10123257966327086|\n",
            "|   N|          2|             25973|299291|0.08678176089491499|\n",
            "|   N|          1|             68489|299291|0.22883748592506958|\n",
            "+----+-----------+------------------+------+-------------------+\n",
            "\n"
          ],
          "name": "stdout"
        }
      ]
    },
    {
      "cell_type": "code",
      "metadata": {
        "id": "ENtLEAz_14mJ",
        "colab_type": "code",
        "colab": {}
      },
      "source": [
        ""
      ],
      "execution_count": 29,
      "outputs": []
    }
  ]
}